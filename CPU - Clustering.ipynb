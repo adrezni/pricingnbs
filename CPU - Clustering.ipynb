{
 "cells": [
  {
   "cell_type": "code",
   "execution_count": 1,
   "metadata": {},
   "outputs": [],
   "source": [
    "%load_ext autoreload\n",
    "%autoreload 2\n",
    "%matplotlib inline"
   ]
  },
  {
   "cell_type": "markdown",
   "metadata": {},
   "source": [
    "### Imports"
   ]
  },
  {
   "cell_type": "code",
   "execution_count": 26,
   "metadata": {},
   "outputs": [],
   "source": [
    "import numpy as np\n",
    "import pandas as pd\n",
    "from sklearn.cluster import KMeans\n",
    "from sklearn.preprocessing import StandardScaler\n",
    "from sklearn.linear_model import LinearRegression\n",
    "import multiprocessing as mp\n",
    "import os\n",
    "\n",
    "from torchvision.datasets import MNIST\n",
    "\n",
    "from profilehooks import profile\n",
    "import matplotlib.pylab as plt"
   ]
  },
  {
   "cell_type": "markdown",
   "metadata": {},
   "source": [
    "#### Get number of threads and choose range of number of clusters"
   ]
  },
  {
   "cell_type": "code",
   "execution_count": 56,
   "metadata": {},
   "outputs": [
    {
     "name": "stdout",
     "output_type": "stream",
     "text": [
      "Can use 12 threads\n"
     ]
    }
   ],
   "source": [
    "with open('/proc/cpuinfo') as f:\n",
    "    lines = f.readlines()\n",
    "    N_PROC = len([l for l in lines if l.lower().find('processor')>-1])\n",
    "print(f'Can use {N_PROC} threads')\n",
    "\n",
    "N_CLUSTER_LOW = 5\n",
    "N_CLUSTER_HIGH = 15"
   ]
  },
  {
   "cell_type": "markdown",
   "metadata": {},
   "source": [
    "### Workload\n",
    "\n",
    "This workload runs K-means clustering on the MNIST dataset for a range of n_cluster values. The idea is to see how well a simple clustering on raw pixel values segments the data since we have labels. There are no embeddings of the data using a neural network and no feature transformations apart from scaling each feature to mean = 0 and standard deviation = 1.\n",
    "\n",
    "Note that K-means is run on the full dataset for a range of n_cluster values. In addition, for each n_cluster value, by default, scikit-learn's implementation runs the algorithm n_init = 10 times with different random initializations of the cluster locations. Each of these runs is distributed across all available threads by scikit-learn. In addition, we run the range of cluster_values in parallel using multiple threads."
   ]
  },
  {
   "cell_type": "code",
   "execution_count": 3,
   "metadata": {},
   "outputs": [],
   "source": [
    "data = MNIST('./', download=True)"
   ]
  },
  {
   "cell_type": "code",
   "execution_count": 4,
   "metadata": {},
   "outputs": [
    {
     "name": "stdout",
     "output_type": "stream",
     "text": [
      "(60000, 784)\n"
     ]
    }
   ],
   "source": [
    "#flatten each image\n",
    "data = data.train_data.numpy().reshape(data.train_data.shape[0], -1).astype(np.float32)\n",
    "print(data.shape)"
   ]
  },
  {
   "cell_type": "code",
   "execution_count": 5,
   "metadata": {},
   "outputs": [],
   "source": [
    "class Cluster:\n",
    "    def __init__(self, data,                \n",
    "                 n_clusters_low=2, \n",
    "                 n_clusters_high=50, \n",
    "                 n_clusters_stepsize=5, \n",
    "                 n_processes=None):\n",
    "\n",
    "        self.data = data.copy()\n",
    "\n",
    "        self.data_normalized = None  # zscore -> pca -> zscore\n",
    "\n",
    "        #clustering scan\n",
    "        self.n_clusters_low = n_clusters_low\n",
    "        self.n_clusters_high = n_clusters_high\n",
    "        self.n_clusters_stepsize = n_clusters_stepsize\n",
    "        self.n_processes = n_processes\n",
    "\n",
    "        self.models_dict = None\n",
    "        self.inertia_dict = None\n",
    "\n",
    "        #clustering optimal\n",
    "        self.n_clusters_optimal = None\n",
    "        self.kmeans_optimal = None\n",
    "\n",
    "    @profile(immediate=True)\n",
    "    def train(self):\n",
    "        self.preprocess_normalize()\n",
    "\n",
    "        if self.n_processes is None:\n",
    "            self.find_nclusters()\n",
    "        else:\n",
    "            self.find_nclusters_parallel()\n",
    "\n",
    "        #self.find_elbow()  # hard-coded currently\n",
    "\n",
    "\n",
    "    def preprocess_normalize(self):        \n",
    "        self.scaler = StandardScaler()\n",
    "        self.data_normalized = self.scaler.fit_transform(self.data)\n",
    "\n",
    "    def find_nclusters(self):\n",
    "        print('Calling find_nclusters...')\n",
    "        if self.data_normalized is None:\n",
    "            raise AttributeError(\"Please call preprocess_normalize to prepare data for clustering.\")\n",
    "\n",
    "        self.inertia_dict, self.models_dict = {}, {}\n",
    "        for ncl in range(self.n_clusters_low, self.n_clusters_high, self.n_clusters_stepsize):\n",
    "            kmeans = KMeans(n_clusters=ncl)\n",
    "            kmeans.fit(self.data_normalized)\n",
    "\n",
    "            self.inertia_dict[ncl] = kmeans.inertia_\n",
    "            self.models_dict[ncl] = kmeans\n",
    "\n",
    "    def find_nclusters_parallel(self):\n",
    "        print('Calling find_nclusters_parallel...')\n",
    "        manager = mp.Manager()\n",
    "        models_shared_dict = manager.dict()\n",
    "        inertia_shared_dict = manager.dict()\n",
    "\n",
    "        proc_list = []\n",
    "        counter = 0\n",
    "        def run(data, ncl):\n",
    "            kmeans = KMeans(n_clusters=ncl)\n",
    "            kmeans.fit(data)\n",
    "\n",
    "            inertia_shared_dict[ncl] = kmeans.inertia_\n",
    "            models_shared_dict[ncl] = kmeans\n",
    "\n",
    "        for ncl in range(self.n_clusters_low, self.n_clusters_high, self.n_clusters_stepsize):\n",
    "            proc = mp.Process(target=run, args=(self.data_normalized, ncl,))\n",
    "            proc.start()\n",
    "            proc_list.append(proc)\n",
    "            counter += 1\n",
    "\n",
    "            if counter % self.n_processes == 0:\n",
    "                [p.join() for p in  proc_list]\n",
    "                proc_list = []\n",
    "\n",
    "        [p.join() for p in proc_list]\n",
    "\n",
    "        self.inertia_dict = dict(inertia_shared_dict)\n",
    "        self.models_dict = dict(models_shared_dict)\n",
    "    \n",
    "    def find_elbow(self):\n",
    "        if self.inertia_dict is None:\n",
    "            raise AttributeError(\"Please run find_nclusters to populated inertia_dict.\")\n",
    "        \n",
    "        keys = np.sort(list(self.inertia_dict.keys()))\n",
    "        values = np.array([self.inertia_dict[k] for k in keys])\n",
    "\n",
    "        N = len(keys)\n",
    "\n",
    "        thresholds = np.arange(2, N-1) #indices to slice at\n",
    "\n",
    "        threshold_cuts, score_means = [], []\n",
    "\n",
    "        for t in thresholds:\n",
    "            model1, model2 = LinearRegression(), LinearRegression()\n",
    "\n",
    "            domain1 = np.arange(t)\n",
    "            domain2 = np.arange(t, N)\n",
    "            \n",
    "            model1.fit(keys[domain1].reshape(-1,1), values[domain1])\n",
    "            model2.fit(keys[domain2].reshape(-1,1), values[domain2])\n",
    "\n",
    "            score1 = model1.score(keys[domain1].reshape(-1,1), values[domain1])\n",
    "            score2 = model2.score(keys[domain2].reshape(-1,1), values[domain2])\n",
    "\n",
    "            score = (score1+score2)/2.0\n",
    "            \n",
    "            threshold_cuts.append(keys[t])\n",
    "            score_means.append(score)\n",
    "\n",
    "        self.n_clusters_optimal = threshold_cuts[np.argmax(score_means)]\n",
    "\n",
    "        return threshold_cuts, score_means\n"
   ]
  },
  {
   "cell_type": "markdown",
   "metadata": {},
   "source": [
    "### Some run times\n",
    "\n",
    "n_clusters_low = 5, n_clusters_high = 6,  n_processes = None : ~65 seconds\n",
    "\n",
    "n_clusters_low = 5, n_clusters_high = 6,  n_processes = 10   : ~70 seconds\n",
    "\n",
    "n_clusters_low = 5, n_clusters_high = 15, n_processes = None : ~963 seconds\n",
    "\n",
    "n_clusters_low = 5, n_clusters_high = 15, n_processes = 10   : ~207 seconds"
   ]
  },
  {
   "cell_type": "code",
   "execution_count": 44,
   "metadata": {},
   "outputs": [
    {
     "name": "stdout",
     "output_type": "stream",
     "text": [
      "Calling find_nclusters_parallel...\n",
      "\n",
      "*** PROFILER RESULTS ***\n",
      "train (<ipython-input-5-b4e3a1a9da52>:25)\n",
      "function called 1 times\n",
      "\n",
      "         4616 function calls in 199.781 seconds\n",
      "\n",
      "   Ordered by: cumulative time, internal time, call count\n",
      "   List reduced from 255 to 40 due to restriction <40>\n",
      "\n",
      "   ncalls  tottime  percall  cumtime  percall filename:lineno(function)\n",
      "        1    0.000    0.000  199.781  199.781 <ipython-input-5-b4e3a1a9da52>:25(train)\n",
      "        1    0.001    0.001  198.952  198.952 <ipython-input-5-b4e3a1a9da52>:54(find_nclusters_parallel)\n",
      "       11    0.000    0.000  198.555   18.050 process.py:118(join)\n",
      "       11    0.000    0.000  198.555   18.050 popen_fork.py:43(wait)\n",
      "       68    0.000    0.000  198.535    2.920 popen_fork.py:24(poll)\n",
      "       67  198.535    2.963  198.535    2.963 {built-in method posix.waitpid}\n",
      "        1    0.000    0.000  198.533  198.533 <ipython-input-5-b4e3a1a9da52>:79(<listcomp>)\n",
      "        1    0.000    0.000    0.806    0.806 <ipython-input-5-b4e3a1a9da52>:37(preprocess_normalize)\n",
      "        1    0.000    0.000    0.806    0.806 base.py:438(fit_transform)\n",
      "        1    0.006    0.006    0.571    0.571 data.py:610(fit)\n",
      "        1    0.000    0.000    0.565    0.565 data.py:627(partial_fit)\n",
      "        1    0.046    0.046    0.468    0.468 extmath.py:716(_incremental_mean_and_var)\n",
      "       11    0.001    0.000    0.405    0.037 process.py:95(start)\n",
      "       11    0.001    0.000    0.401    0.036 context.py:274(_Popen)\n",
      "       11    0.000    0.000    0.400    0.036 popen_fork.py:16(__init__)\n",
      "       11    0.005    0.000    0.388    0.035 popen_fork.py:63(_launch)\n",
      "       10    0.000    0.000    0.385    0.039 context.py:221(_Popen)\n",
      "       11    0.380    0.035    0.380    0.035 {built-in method posix.fork}\n",
      "        8    0.316    0.040    0.316    0.040 {built-in method numpy.array}\n",
      "        1    0.055    0.055    0.238    0.238 nanfunctions.py:1385(nanvar)\n",
      "        1    0.141    0.141    0.235    0.235 data.py:729(transform)\n",
      "        2    0.049    0.024    0.217    0.108 nanfunctions.py:43(_replace_nan)\n",
      "        2    0.000    0.000    0.190    0.095 validation.py:362(check_array)\n",
      "       10    0.170    0.017    0.170    0.017 {method 'reduce' of 'numpy.ufunc' objects}\n",
      "        1    0.000    0.000    0.146    0.146 nanfunctions.py:526(nansum)\n",
      "        5    0.000    0.000    0.142    0.028 fromnumeric.py:1966(sum)\n",
      "        6    0.000    0.000    0.142    0.024 fromnumeric.py:69(_wrapreduction)\n",
      "        2    0.000    0.000    0.027    0.014 validation.py:40(_assert_all_finite)\n",
      "        2    0.000    0.000    0.027    0.014 {method 'sum' of 'numpy.ndarray' objects}\n",
      "        2    0.000    0.000    0.027    0.014 _methods.py:34(_sum)\n",
      "       14    0.000    0.000    0.023    0.002 util.py:167(__call__)\n",
      "        3    0.022    0.007    0.022    0.007 {built-in method numpy.copyto}\n",
      "        1    0.000    0.000    0.022    0.022 managers.py:599(_finalize_manager)\n",
      "        1    0.000    0.000    0.022    0.022 connection.py:897(wait)\n",
      "        1    0.000    0.000    0.022    0.022 selectors.py:365(select)\n",
      "        1    0.022    0.022    0.022    0.022 {method 'poll' of 'select.poll' objects}\n",
      "        1    0.000    0.000    0.018    0.018 context.py:48(Manager)\n",
      "        1    0.000    0.000    0.018    0.018 managers.py:493(start)\n",
      "       11    0.000    0.000    0.012    0.001 util.py:395(_flush_std_streams)\n",
      "       22    0.001    0.000    0.012    0.001 iostream.py:334(flush)\n",
      "\n",
      "\n"
     ]
    }
   ],
   "source": [
    "cl = Cluster(data, n_clusters_low=N_CLUSTER_LOW, n_clusters_high=N_CLUSTER_HIGH, n_clusters_stepsize=1, n_processes=N_PROC)\n",
    "cl.train()"
   ]
  },
  {
   "cell_type": "code",
   "execution_count": 45,
   "metadata": {},
   "outputs": [
    {
     "data": {
      "text/plain": [
       "[<matplotlib.lines.Line2D at 0x7f518417b358>]"
      ]
     },
     "execution_count": 45,
     "metadata": {},
     "output_type": "execute_result"
    },
    {
     "data": {
      "image/png": "[encoded data removed]",
      "text/plain": [
       "<Figure size 432x288 with 1 Axes>"
      ]
     },
     "metadata": {
      "needs_background": "light"
     },
     "output_type": "display_data"
    }
   ],
   "source": [
    "plt.plot(cl.inertia_dict.keys(), cl.inertia_dict.values(), 'p')"
   ]
  },
  {
   "cell_type": "markdown",
   "metadata": {},
   "source": [
    "Each column in the table is a single cluster. The rows show the number of images in a particular cluster that belong to each digit (rows).\n",
    "\n",
    "E.g.:\n",
    "\n",
    "Cluster 9 contains both \"7\" and \"9\" which are similar in shape\n",
    "\n",
    "Cluster 2 is dominated by \"0\"s\n",
    "\n",
    "Cluster 1 contains \"4\", \"7\" and \"9\" which are also similar in shape"
   ]
  },
  {
   "cell_type": "code",
   "execution_count": 46,
   "metadata": {},
   "outputs": [
    {
     "data": {
      "text/html": [
       "<div>\n",
       "<style scoped>\n",
       "    .dataframe tbody tr th:only-of-type {\n",
       "        vertical-align: middle;\n",
       "    }\n",
       "\n",
       "    .dataframe tbody tr th {\n",
       "        vertical-align: top;\n",
       "    }\n",
       "\n",
       "    .dataframe thead th {\n",
       "        text-align: right;\n",
       "    }\n",
       "</style>\n",
       "<table border=\"1\" class=\"dataframe\">\n",
       "  <thead>\n",
       "    <tr style=\"text-align: right;\">\n",
       "      <th>clusterid</th>\n",
       "      <th>0</th>\n",
       "      <th>1</th>\n",
       "      <th>2</th>\n",
       "      <th>3</th>\n",
       "      <th>4</th>\n",
       "      <th>5</th>\n",
       "      <th>6</th>\n",
       "      <th>7</th>\n",
       "      <th>8</th>\n",
       "      <th>9</th>\n",
       "    </tr>\n",
       "    <tr>\n",
       "      <th>label</th>\n",
       "      <th></th>\n",
       "      <th></th>\n",
       "      <th></th>\n",
       "      <th></th>\n",
       "      <th></th>\n",
       "      <th></th>\n",
       "      <th></th>\n",
       "      <th></th>\n",
       "      <th></th>\n",
       "      <th></th>\n",
       "    </tr>\n",
       "  </thead>\n",
       "  <tbody>\n",
       "    <tr>\n",
       "      <th>0</th>\n",
       "      <td>528.0</td>\n",
       "      <td>22.0</td>\n",
       "      <td>3409.0</td>\n",
       "      <td>661.0</td>\n",
       "      <td>30.0</td>\n",
       "      <td>386.0</td>\n",
       "      <td>78.0</td>\n",
       "      <td>10.0</td>\n",
       "      <td>796.0</td>\n",
       "      <td>3.0</td>\n",
       "    </tr>\n",
       "    <tr>\n",
       "      <th>1</th>\n",
       "      <td>16.0</td>\n",
       "      <td>6.0</td>\n",
       "      <td>NaN</td>\n",
       "      <td>146.0</td>\n",
       "      <td>6527.0</td>\n",
       "      <td>11.0</td>\n",
       "      <td>12.0</td>\n",
       "      <td>1.0</td>\n",
       "      <td>20.0</td>\n",
       "      <td>3.0</td>\n",
       "    </tr>\n",
       "    <tr>\n",
       "      <th>2</th>\n",
       "      <td>535.0</td>\n",
       "      <td>170.0</td>\n",
       "      <td>34.0</td>\n",
       "      <td>125.0</td>\n",
       "      <td>698.0</td>\n",
       "      <td>1471.0</td>\n",
       "      <td>2240.0</td>\n",
       "      <td>44.0</td>\n",
       "      <td>616.0</td>\n",
       "      <td>25.0</td>\n",
       "    </tr>\n",
       "    <tr>\n",
       "      <th>3</th>\n",
       "      <td>84.0</td>\n",
       "      <td>171.0</td>\n",
       "      <td>9.0</td>\n",
       "      <td>198.0</td>\n",
       "      <td>620.0</td>\n",
       "      <td>991.0</td>\n",
       "      <td>178.0</td>\n",
       "      <td>79.0</td>\n",
       "      <td>3728.0</td>\n",
       "      <td>73.0</td>\n",
       "    </tr>\n",
       "    <tr>\n",
       "      <th>4</th>\n",
       "      <td>110.0</td>\n",
       "      <td>3508.0</td>\n",
       "      <td>38.0</td>\n",
       "      <td>823.0</td>\n",
       "      <td>453.0</td>\n",
       "      <td>24.0</td>\n",
       "      <td>45.0</td>\n",
       "      <td>393.0</td>\n",
       "      <td>4.0</td>\n",
       "      <td>444.0</td>\n",
       "    </tr>\n",
       "    <tr>\n",
       "      <th>5</th>\n",
       "      <td>110.0</td>\n",
       "      <td>288.0</td>\n",
       "      <td>23.0</td>\n",
       "      <td>2421.0</td>\n",
       "      <td>460.0</td>\n",
       "      <td>135.0</td>\n",
       "      <td>119.0</td>\n",
       "      <td>71.0</td>\n",
       "      <td>1737.0</td>\n",
       "      <td>57.0</td>\n",
       "    </tr>\n",
       "    <tr>\n",
       "      <th>6</th>\n",
       "      <td>4420.0</td>\n",
       "      <td>29.0</td>\n",
       "      <td>196.0</td>\n",
       "      <td>113.0</td>\n",
       "      <td>396.0</td>\n",
       "      <td>11.0</td>\n",
       "      <td>691.0</td>\n",
       "      <td>5.0</td>\n",
       "      <td>56.0</td>\n",
       "      <td>1.0</td>\n",
       "    </tr>\n",
       "    <tr>\n",
       "      <th>7</th>\n",
       "      <td>2.0</td>\n",
       "      <td>1484.0</td>\n",
       "      <td>19.0</td>\n",
       "      <td>98.0</td>\n",
       "      <td>452.0</td>\n",
       "      <td>12.0</td>\n",
       "      <td>6.0</td>\n",
       "      <td>760.0</td>\n",
       "      <td>11.0</td>\n",
       "      <td>3421.0</td>\n",
       "    </tr>\n",
       "    <tr>\n",
       "      <th>8</th>\n",
       "      <td>34.0</td>\n",
       "      <td>348.0</td>\n",
       "      <td>37.0</td>\n",
       "      <td>2158.0</td>\n",
       "      <td>1147.0</td>\n",
       "      <td>70.0</td>\n",
       "      <td>92.0</td>\n",
       "      <td>93.0</td>\n",
       "      <td>1755.0</td>\n",
       "      <td>117.0</td>\n",
       "    </tr>\n",
       "    <tr>\n",
       "      <th>9</th>\n",
       "      <td>5.0</td>\n",
       "      <td>3011.0</td>\n",
       "      <td>36.0</td>\n",
       "      <td>122.0</td>\n",
       "      <td>310.0</td>\n",
       "      <td>7.0</td>\n",
       "      <td>12.0</td>\n",
       "      <td>454.0</td>\n",
       "      <td>96.0</td>\n",
       "      <td>1896.0</td>\n",
       "    </tr>\n",
       "  </tbody>\n",
       "</table>\n",
       "</div>"
      ],
      "text/plain": [
       "clusterid       0       1       2       3       4       5       6      7  \\\n",
       "label                                                                      \n",
       "0           528.0    22.0  3409.0   661.0    30.0   386.0    78.0   10.0   \n",
       "1            16.0     6.0     NaN   146.0  6527.0    11.0    12.0    1.0   \n",
       "2           535.0   170.0    34.0   125.0   698.0  1471.0  2240.0   44.0   \n",
       "3            84.0   171.0     9.0   198.0   620.0   991.0   178.0   79.0   \n",
       "4           110.0  3508.0    38.0   823.0   453.0    24.0    45.0  393.0   \n",
       "5           110.0   288.0    23.0  2421.0   460.0   135.0   119.0   71.0   \n",
       "6          4420.0    29.0   196.0   113.0   396.0    11.0   691.0    5.0   \n",
       "7             2.0  1484.0    19.0    98.0   452.0    12.0     6.0  760.0   \n",
       "8            34.0   348.0    37.0  2158.0  1147.0    70.0    92.0   93.0   \n",
       "9             5.0  3011.0    36.0   122.0   310.0     7.0    12.0  454.0   \n",
       "\n",
       "clusterid       8       9  \n",
       "label                      \n",
       "0           796.0     3.0  \n",
       "1            20.0     3.0  \n",
       "2           616.0    25.0  \n",
       "3          3728.0    73.0  \n",
       "4             4.0   444.0  \n",
       "5          1737.0    57.0  \n",
       "6            56.0     1.0  \n",
       "7            11.0  3421.0  \n",
       "8          1755.0   117.0  \n",
       "9            96.0  1896.0  "
      ]
     },
     "execution_count": 46,
     "metadata": {},
     "output_type": "execute_result"
    }
   ],
   "source": [
    "pred = cl.models_dict[10].predict(cl.data_normalized)\n",
    "labels = MNIST('./', download=True).train_labels.numpy()\n",
    "\n",
    "comp = pd.DataFrame({'clusterid': pred, 'label': labels})\n",
    "comp['count'] = 1\n",
    "pd.pivot_table(comp, index='label', columns='clusterid', values='count', aggfunc='sum')"
   ]
  },
  {
   "cell_type": "markdown",
   "metadata": {},
   "source": [
    "One method to find the optimal number of clusters is to look at the so-called elbow plot of the inertia (sum of distances of each point from its cluster's center) vs the number of clusters. As the number of clusters approaches the number of data points, inertia approaches 0 (since each point is its own clusters). Often, there is a num_cluster values at which the plot shows a dramatic change in slope (slope becomes less negative i.e. increases). This doesn't happen here which is expected since even some variation in an image (pixel-wise translation) can result in a big increase in Euclidean distance but none in the label.\n",
    "\n",
    "One way to automatically identify the elbow plot is to split the number of clusters axis at different points and fit both the left and right side of the point with linear models. If there's a sharp elbow, both fits should be very good leading to a local maximum of the average R^2 metric. This is implemented in Cluster.find_elbow."
   ]
  },
  {
   "cell_type": "code",
   "execution_count": 49,
   "metadata": {},
   "outputs": [
    {
     "data": {
      "text/plain": [
       "[<matplotlib.lines.Line2D at 0x7f51841e7d30>]"
      ]
     },
     "execution_count": 49,
     "metadata": {},
     "output_type": "execute_result"
    },
    {
     "data": {
      "image/png": "[encoded data removed]",
      "text/plain": [
       "<Figure size 432x288 with 1 Axes>"
      ]
     },
     "metadata": {
      "needs_background": "light"
     },
     "output_type": "display_data"
    }
   ],
   "source": [
    "plt.plot(cl.inertia_dict.keys(), cl.inertia_dict.values(), 'p')"
   ]
  },
  {
   "cell_type": "code",
   "execution_count": 52,
   "metadata": {},
   "outputs": [],
   "source": [
    "threshold_cuts, score_means = cl.find_elbow()"
   ]
  },
  {
   "cell_type": "code",
   "execution_count": 55,
   "metadata": {},
   "outputs": [
    {
     "data": {
      "text/plain": [
       "[<matplotlib.lines.Line2D at 0x7f5183e2ee80>]"
      ]
     },
     "execution_count": 55,
     "metadata": {},
     "output_type": "execute_result"
    },
    {
     "data": {
      "image/png": "[encoded data removed]",
      "text/plain": [
       "<Figure size 432x288 with 1 Axes>"
      ]
     },
     "metadata": {
      "needs_background": "light"
     },
     "output_type": "display_data"
    }
   ],
   "source": [
    "plt.plot(keys[threshold_cuts], score_means)"
   ]
  },
  {
   "cell_type": "code",
   "execution_count": null,
   "metadata": {},
   "outputs": [],
   "source": []
  }
 ],
 "metadata": {
  "kernelspec": {
   "display_name": "Python 3",
   "language": "python",
   "name": "python3"
  },
  "language_info": {
   "codemirror_mode": {
    "name": "ipython",
    "version": 3
   },
   "file_extension": ".py",
   "mimetype": "text/x-python",
   "name": "python",
   "nbconvert_exporter": "python",
   "pygments_lexer": "ipython3",
   "version": "3.6.12"
  }
 },
 "nbformat": 4,
 "nbformat_minor": 2
}
